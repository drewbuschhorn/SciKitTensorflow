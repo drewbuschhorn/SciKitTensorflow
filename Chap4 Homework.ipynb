{
 "cells": [
  {
   "cell_type": "code",
   "execution_count": 2,
   "metadata": {
    "collapsed": false
   },
   "outputs": [
    {
     "data": {
      "image/png": "[encoded data removed]",
      "text/plain": [
       "<matplotlib.figure.Figure at 0x2c154887438>"
      ]
     },
     "metadata": {},
     "output_type": "display_data"
    },
    {
     "data": {
      "text/plain": [
       "(100, 100)"
      ]
     },
     "execution_count": 2,
     "metadata": {},
     "output_type": "execute_result"
    }
   ],
   "source": [
    "%matplotlib inline\n",
    "import numpy as np\n",
    "import matplotlib.pyplot as plt\n",
    "\n",
    "np.random.seed(42)\n",
    "\n",
    "X = 1 *np.random.rand(100,1)\n",
    "y = 0 + (10 * X + np.random.rand(100,1))\n",
    "\n",
    "plt.plot(X,y, \"b.\")\n",
    "plt.axis([0,1,0,15])\n",
    "plt.show()\n",
    "len(X),len(y)"
   ]
  },
  {
   "cell_type": "code",
   "execution_count": 3,
   "metadata": {
    "collapsed": false
   },
   "outputs": [
    {
     "data": {
      "text/plain": [
       "(100, 100, array([[ 0.37454012],\n",
       "        [ 0.95071431],\n",
       "        [ 0.73199394],\n",
       "        [ 0.59865848],\n",
       "        [ 0.15601864],\n",
       "        [ 0.15599452],\n",
       "        [ 0.05808361],\n",
       "        [ 0.86617615],\n",
       "        [ 0.60111501],\n",
       "        [ 0.70807258]]), array([[ 1.        ,  0.37454012],\n",
       "        [ 1.        ,  0.95071431],\n",
       "        [ 1.        ,  0.73199394],\n",
       "        [ 1.        ,  0.59865848],\n",
       "        [ 1.        ,  0.15601864],\n",
       "        [ 1.        ,  0.15599452],\n",
       "        [ 1.        ,  0.05808361],\n",
       "        [ 1.        ,  0.86617615],\n",
       "        [ 1.        ,  0.60111501],\n",
       "        [ 1.        ,  0.70807258]]))"
      ]
     },
     "execution_count": 3,
     "metadata": {},
     "output_type": "execute_result"
    }
   ],
   "source": [
    "X_b = np.c_[np.ones((len(X),1)),X]\n",
    "len(X),len(X_b),X[0:10],X_b[0:10]"
   ]
  },
  {
   "cell_type": "code",
   "execution_count": 9,
   "metadata": {
    "collapsed": false
   },
   "outputs": [
    {
     "name": "stdout",
     "output_type": "stream",
     "text": [
      "[[ 1.          0.59865848]] [[ 1.        ]\n",
      " [ 0.59865848]] [[-11.34315389]\n",
      " [ -6.79067532]] 1.0 [[ 12.15529303]\n",
      " [  6.80978379]]\n",
      "--\n",
      "[[ 1.          0.15601864]] [[ 1.        ]\n",
      " [ 0.15601864]] [[ 21.49998672]\n",
      " [  3.3543987 ]] 0.998003992015968 [[-9.30177955]\n",
      " [ 3.4620805 ]]\n",
      "--\n",
      "[[ 1.          0.59865848]] [[ 1.        ]\n",
      " [ 0.59865848]] [[-27.44866243]\n",
      " [-16.43237465]] 0.9960159362549801 [[ 18.03752567]\n",
      " [ 19.82898751]]\n",
      "--\n",
      "[[ 1.          0.73199394]] [[ 1.        ]\n",
      " [ 0.73199394]] [[ 49.835858  ]\n",
      " [ 36.47954614]] 0.9940357852882704 [[-31.50110058]\n",
      " [-16.43298678]]\n",
      "--\n",
      "[[ 1.          0.15601864]] [[ 1.        ]\n",
      " [ 0.15601864]] [[-73.06541142]\n",
      " [-11.39956615]] 0.9920634920634921 [[ 40.98442663]\n",
      " [ -5.12389337]]\n",
      "--\n",
      "[[ 40.98442663]\n",
      " [ -5.12389337]]\n"
     ]
    },
    {
     "data": {
      "image/png": "[encoded data removed]",
      "text/plain": [
       "<matplotlib.figure.Figure at 0x2c1564bb9e8>"
      ]
     },
     "metadata": {},
     "output_type": "display_data"
    }
   ],
   "source": [
    "plt.plot(X,y, \"b.\")\n",
    "plt.axis([0,1,0,15])\n",
    "\n",
    "m = 5\n",
    "n_epochs = 1\n",
    "t0, t1 = 500, 500\n",
    "\n",
    "def learning_schedule(t):\n",
    "    return t0 / (t+t1)\n",
    "\n",
    "theta = np.random.randn(2,1)\n",
    "\n",
    "for epoch in range(n_epochs):\n",
    "    for i in range(m):\n",
    "        random_index = np.random.randint(m)\n",
    "        xi = X_b[random_index:random_index+1]\n",
    "        yi = y[random_index:random_index+1]\n",
    "        gradients = 2 * xi.T.dot(xi.dot(theta) - yi)\n",
    "        eta = learning_schedule(epoch *m +i)\n",
    "        theta = theta - eta * gradients\n",
    "        print (xi, xi.T, gradients, eta, theta)\n",
    "        print (\"--\")\n",
    "    if epoch == 0 or epoch == 5 or epoch == 20 or epoch == 35:\n",
    "        plt.plot(X, X.dot(theta[1]) + theta[0], \"g-\")\n",
    "\n",
    "plt.plot(X, X.dot(theta[1]) + theta[0], \"g-\")\n",
    "print (theta)"
   ]
  },
  {
   "cell_type": "code",
   "execution_count": null,
   "metadata": {
    "collapsed": true
   },
   "outputs": [],
   "source": []
  }
 ],
 "metadata": {
  "anaconda-cloud": {},
  "kernelspec": {
   "display_name": "Python [conda env:tensorflow]",
   "language": "python",
   "name": "conda-env-tensorflow-py"
  },
  "language_info": {
   "codemirror_mode": {
    "name": "ipython",
    "version": 3
   },
   "file_extension": ".py",
   "mimetype": "text/x-python",
   "name": "python",
   "nbconvert_exporter": "python",
   "pygments_lexer": "ipython3",
   "version": "3.5.4"
  }
 },
 "nbformat": 4,
 "nbformat_minor": 1
}
